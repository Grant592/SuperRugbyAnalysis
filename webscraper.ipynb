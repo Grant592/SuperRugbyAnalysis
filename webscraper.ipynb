{
 "cells": [
  {
   "cell_type": "markdown",
   "metadata": {},
   "source": [
    "# Opta Web Scraper"
   ]
  },
  {
   "cell_type": "code",
   "execution_count": 5,
   "metadata": {},
   "outputs": [],
   "source": [
    "# import relevant modules\n",
    "from selenium import webdriver\n",
    "import pandas as pd\n",
    "import re\n",
    "import os\n",
    "import time\n",
    "import json"
   ]
  },
  {
   "cell_type": "code",
   "execution_count": 2,
   "metadata": {},
   "outputs": [],
   "source": [
    "# Create a webdriver to access opta\n",
    "\n",
    "# website urls\n",
    "base_url = \"https://www.optaprorugby.com/\"\n",
    "\n",
    "# Load firefox session\n",
    "driver = webdriver.Firefox()\n",
    "driver.get(base_url)\n",
    "driver.implicitly_wait(100)"
   ]
  },
  {
   "cell_type": "code",
   "execution_count": 6,
   "metadata": {},
   "outputs": [],
   "source": [
    "# Creat a file called credentials.txt. Create a python diction with\n",
    "# the keys username and password and their corresponding values\n",
    "# Load private data\n",
    "with open('credentials.txt') as json_file:\n",
    "    private_data = json.load(json_file)\n"
   ]
  },
  {
   "cell_type": "code",
   "execution_count": 7,
   "metadata": {},
   "outputs": [],
   "source": [
    "# Use XPath from 'inspect element' to locate textbox\n",
    "userid = driver.find_element_by_xpath('/html/body/div/div[2]/form/table/tbody/tr/td/div/input')\n",
    "userid.send_keys(private_data['username'])\n",
    "password = driver.find_element_by_xpath('/html/body/div/div[2]/form/table/tbody/tr/td/div/div[1]/input')\n",
    "password.send_keys(private_data['password'])\n",
    "login = driver.find_element_by_xpath('/html/body/div/div[2]/form/table/tbody/tr/td/div/div[3]/input')\n",
    "login.click()\n"
   ]
  },
  {
   "cell_type": "code",
   "execution_count": 8,
   "metadata": {},
   "outputs": [],
   "source": [
    "# Select correct competition.\n",
    "# Find whichever competition you want to download, open developer options,\n",
    "# copy and paste the xpath into the second line below\n",
    "driver.find_element_by_xpath('/html/body/div[1]/div[1]/table/tbody/tr/td[3]/a').click()\n",
    "driver.find_element_by_xpath('/html/body/div[1]/div[2]/table/tbody/tr/td[2]/div[2]/table/tbody/tr[10]/td[4]/div/a/div').click()"
   ]
  },
  {
   "cell_type": "code",
   "execution_count": 9,
   "metadata": {},
   "outputs": [
    {
     "name": "stdin",
     "output_type": "stream",
     "text": [
      "How many matches are there to download?: 1\n"
     ]
    }
   ],
   "source": [
    "# Iterate through all matches (1-127) and select file to download\n",
    "\n",
    "# You need to input how many matches there are to download\n",
    "# The python console will prompt for this, just google how many\n",
    "no_of_matches = input(\"How many matches are there to download?:\")\n",
    "\n",
    "for match in range(1, int(no_of_matches)+1):\n",
    "    driver.find_element_by_xpath(\n",
    "        f'/html/body/div[1]/div[2]/table/tbody/tr/td[2]/div[3]/table/tbody/tr[{match}]/td[1]').click()\n",
    "    time.sleep(2)\n",
    "    driver.find_element_by_xpath(\n",
    "        '/html/body/div[1]/div[2]/table/tbody/tr/td[4]/div[2]/div/form/table[3]/tbody/tr[6]/td[1]/input').click()\n",
    "    time.sleep(2)\n",
    "    driver.find_element_by_xpath('//*[@id=\"gameInfoDownload\"]').click()\n",
    "    time.sleep(2)"
   ]
  },
  {
   "cell_type": "markdown",
   "metadata": {},
   "source": [
    "## Notes\n",
    "* Ensure your browser is set to save to a location without prompting otherwise you will need to confirm every download"
   ]
  }
 ],
 "metadata": {
  "kernelspec": {
   "display_name": "Python 3",
   "language": "python",
   "name": "python3"
  },
  "language_info": {
   "codemirror_mode": {
    "name": "ipython",
    "version": 3
   },
   "file_extension": ".py",
   "mimetype": "text/x-python",
   "name": "python",
   "nbconvert_exporter": "python",
   "pygments_lexer": "ipython3",
   "version": "3.7.3"
  }
 },
 "nbformat": 4,
 "nbformat_minor": 4
}
